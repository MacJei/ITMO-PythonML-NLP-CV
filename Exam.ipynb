{
  "nbformat": 4,
  "nbformat_minor": 0,
  "metadata": {
    "colab": {
      "provenance": [],
      "machine_shape": "hm"
    },
    "kernelspec": {
      "name": "python3",
      "display_name": "Python 3"
    },
    "language_info": {
      "name": "python"
    },
    "accelerator": "TPU",
    "gpuClass": "standard"
  },
  "cells": [
    {
      "cell_type": "code",
      "execution_count": null,
      "metadata": {
        "colab": {
          "base_uri": "https://localhost:8080/"
        },
        "id": "F7UiQ-gWOShb",
        "outputId": "19e38e67-2f5e-484e-adc4-3af69672fb98"
      },
      "outputs": [
        {
          "output_type": "stream",
          "name": "stdout",
          "text": [
            "Looking in indexes: https://pypi.org/simple, https://us-python.pkg.dev/colab-wheels/public/simple/\n",
            "Collecting mnist\n",
            "  Downloading mnist-0.2.2-py2.py3-none-any.whl (3.5 kB)\n",
            "Requirement already satisfied: numpy in /usr/local/lib/python3.8/dist-packages (from mnist) (1.21.6)\n",
            "Installing collected packages: mnist\n",
            "Successfully installed mnist-0.2.2\n"
          ]
        }
      ],
      "source": [
        "!pip install mnist\n"
      ]
    },
    {
      "cell_type": "code",
      "source": [
        "import pandas as pd\n",
        "import numpy as np\n",
        "import matplotlib.pyplot as plt\n",
        "import mnist\n",
        "from sklearn.model_selection import train_test_split\n",
        "from sklearn.metrics import confusion_matrix\n",
        "from sklearn.decomposition import PCA\n",
        "from sklearn.multiclass import OneVsRestClassifier\n",
        "from sklearn.ensemble import RandomForestClassifier\n",
        "from sklearn.linear_model import LogisticRegression\n",
        "\n",
        "%matplotlib inline"
      ],
      "metadata": {
        "id": "uqzQae0XPFDm"
      },
      "execution_count": null,
      "outputs": []
    },
    {
      "cell_type": "markdown",
      "source": [
        "1. Используйте метод главных компонент для набора данных MNIST (данные загрузите из keras.datasets, train dataset объема 60000). Определите, какое минимальное количество главных компонент  необходимо использовать, чтобы доля объясненной дисперсии превышала 0.84 (была строго больше указанного значения).\n",
        "\n",
        "Введите количество главных компонент :"
      ],
      "metadata": {
        "id": "5Y0FUurpQmXb"
      }
    },
    {
      "cell_type": "code",
      "source": [
        "print(28*28)"
      ],
      "metadata": {
        "colab": {
          "base_uri": "https://localhost:8080/"
        },
        "id": "EIFmKtjVQ35-",
        "outputId": "1f8c6b55-45d3-467d-cb48-629c24496d57"
      },
      "execution_count": null,
      "outputs": [
        {
          "output_type": "stream",
          "name": "stdout",
          "text": [
            "784\n"
          ]
        }
      ]
    },
    {
      "cell_type": "code",
      "source": [
        "X_train = mnist.train_images()\n",
        "y_train = mnist.train_labels()\n",
        "dim = 784\n",
        "X_train = X_train.reshape(len(X_train), dim)\n",
        "ev_ = 0.84\n",
        "M = 0\n",
        "pca = PCA(n_components=70, svd_solver='full')\n",
        "pca.fit(X_train)\n",
        "explained_variance = np.round(np.cumsum(pca.explained_variance_ratio_), 3)\n",
        "for i, ev in enumerate(explained_variance):\n",
        "  if ev > ev_:\n",
        "    M = i +1\n",
        "    break\n",
        "\n",
        "plt.plot(np.arange(70), explained_variance)\n",
        "plt.plot([0, 70], [0.84, 0.84]);\n",
        "print(f'Количество главных компонент {M} ')"
      ],
      "metadata": {
        "colab": {
          "base_uri": "https://localhost:8080/",
          "height": 283
        },
        "id": "dbKxRtptRNMh",
        "outputId": "e5c9a4c1-e84c-40eb-85b7-cdcbb46fc92c"
      },
      "execution_count": null,
      "outputs": [
        {
          "output_type": "stream",
          "name": "stdout",
          "text": [
            "Количество главных компонент 56 \n"
          ]
        },
        {
          "output_type": "display_data",
          "data": {
            "text/plain": [
              "<Figure size 432x288 with 1 Axes>"
            ],
            "image/png": "[encoded data removed]"
          },
          "metadata": {
            "needs_background": "light"
          }
        }
      ]
    },
    {
      "cell_type": "markdown",
      "source": [
        "2. Найдите счеты, отвечающие найденным в предыдущем пункте  главным компонентам: PCA(n_components=M, svd_solver='full').\n",
        "\n",
        "3. Разделите полученную выборку (после сокращения размерности) случайным образом в отношении 70/30: train_test_split(X_train, y_train, test_size=0.3, random_state=95).\n",
        "\n",
        "4. Используя метод многоклассовой классификации One-vs-All OneVsRestClassifier(), обучите алгоритм случайного леса RandomForestClassifier() с параметрами criterion='gini', min_samples_leaf=10, max_depth=20, n_estimators=10, random_state=95. Выполните оценку с помощью тестовых данных.\n",
        "\n",
        "Введите количество верно классифицированных объектов класса 4 для тестовых данных:"
      ],
      "metadata": {
        "id": "LP8LmPFvVzN5"
      }
    },
    {
      "cell_type": "code",
      "source": [
        "pca = PCA(n_components=M, svd_solver='full')\n",
        "pca.fit(X_train)\n",
        "X_test_transformed = pca.transform(X_train)\n",
        "X_train, X_test, y_train, y_test = train_test_split(X_test_transformed, y_train, test_size=0.3, random_state=95)\n"
      ],
      "metadata": {
        "id": "BmiVUu47THG6"
      },
      "execution_count": null,
      "outputs": []
    },
    {
      "cell_type": "code",
      "source": [
        "rfc = RandomForestClassifier(criterion='gini', min_samples_leaf=10, max_depth=20, n_estimators=10, random_state=95)\n",
        "clf = OneVsRestClassifier(rfc).fit(X_train, y_train)\n",
        "y_pred = clf.predict(X_test)\n",
        "CM = confusion_matrix(y_test, y_pred)\n",
        "P = 4\n",
        "print(f'Выведите количество верно классифицированных объектов класса {P}: {CM[P][P]}')"
      ],
      "metadata": {
        "colab": {
          "base_uri": "https://localhost:8080/"
        },
        "id": "SYFtiZ0MXzo2",
        "outputId": "4bedfc44-bc5b-451f-b2d9-1c3e0ecfa3fe"
      },
      "execution_count": null,
      "outputs": [
        {
          "output_type": "stream",
          "name": "stdout",
          "text": [
            "Выведите количество верно классифицированных объектов класса 4: 1603\n"
          ]
        }
      ]
    },
    {
      "cell_type": "markdown",
      "source": [
        "##"
      ],
      "metadata": {
        "id": "8p4vEoJbaVO8"
      }
    },
    {
      "cell_type": "markdown",
      "source": [
        "5. Используя метод многоклассовой классификации One-vs-All OneVsRestClassifier(), обучите алгоритм логистической регрессии LogisticRegression(solver='lbfgs', random_state=95). Остальные параметры оставьте по умолчанию. Выполните оценку с помощью тестовых данных.\n",
        "\n",
        "Введите количество верно классифицированных объектов класса 6 для тестовых данных:"
      ],
      "metadata": {
        "id": "n4o53y9yaXde"
      }
    },
    {
      "cell_type": "code",
      "source": [
        "reg = LogisticRegression(solver='lbfgs', random_state=95)\n",
        "clf = OneVsRestClassifier(rfc).fit(X_train, y_train)\n",
        "y_pred = clf.predict(X_test)\n",
        "CM = confusion_matrix(y_test, y_pred)\n",
        "P = 6\n",
        "print(f'Выведите количество верно классифицированных объектов класса {P}: {CM[P][P]}')"
      ],
      "metadata": {
        "colab": {
          "base_uri": "https://localhost:8080/"
        },
        "id": "ac8CAimEaapM",
        "outputId": "2d61c5df-f111-4bf7-a6e5-e47fa3334a01"
      },
      "execution_count": null,
      "outputs": [
        {
          "output_type": "stream",
          "name": "stdout",
          "text": [
            "Выведите количество верно классифицированных объектов класса 6: 1720\n"
          ]
        }
      ]
    },
    {
      "cell_type": "markdown",
      "source": [
        " Используя метод многоклассовой классификации One-vs-All OneVsRestClassifier(), обучите дерево принятия решений DecisionTreeClassifier() с параметрами criterion='gini', min_samples_leaf=10, max_depth=20, random_state=95. Выполните оценку с помощью тестовых данных.\n",
        "\n",
        "Введите количество верно классифицированных объектов класса 7 для тестовых данных:"
      ],
      "metadata": {
        "id": "lR_SbGqgdAdD"
      }
    },
    {
      "cell_type": "code",
      "source": [
        "from sklearn import tree\n",
        "reg = tree.DecisionTreeClassifier(criterion='gini', min_samples_leaf=10, max_depth=20, random_state=95)\n",
        "clf = OneVsRestClassifier(rfc).fit(X_train, y_train)\n",
        "y_pred = clf.predict(X_test)\n",
        "CM = confusion_matrix(y_test, y_pred)\n",
        "P = 7\n",
        "print(f'Выведите количество верно классифицированных объектов класса {P}: {CM[P][P]}')"
      ],
      "metadata": {
        "colab": {
          "base_uri": "https://localhost:8080/"
        },
        "id": "3vUvJo6oaavH",
        "outputId": "762b08c5-0d54-454a-a11e-d52ee9f749fb"
      },
      "execution_count": null,
      "outputs": [
        {
          "output_type": "stream",
          "name": "stdout",
          "text": [
            "Выведите количество верно классифицированных объектов класса 7: 1794\n"
          ]
        }
      ]
    },
    {
      "cell_type": "code",
      "source": [],
      "metadata": {
        "id": "qaRkKgPndTgW"
      },
      "execution_count": null,
      "outputs": []
    }
  ]
}
{
  "cells": [
    {
      "cell_type": "markdown",
      "metadata": {
        "id": "view-in-github"
      },
      "source": [
        "<a href=\"https://colab.research.google.com/github/albivaltzew/NLP_CV_DC_ITMO/blob/main/Unit_5_Syntactic_analysis.ipynb\" target=\"_parent\"><img src=\"https://colab.research.google.com/assets/colab-badge.svg\" alt=\"Open In Colab\"/></a>"
      ]
    },
    {
      "cell_type": "markdown",
      "metadata": {
        "id": "885nCnaEi6Zq"
      },
      "source": [
        "В этом задании мы рассмотрим работу UDpipe с двумя моделями:\n",
        "\n",
        "* предварительно обученной на SynTagRus [link](https://universaldependencies.org/treebanks/ru_syntagrus/index.html)\n",
        "* обученной на Taiga [link](https://universaldependencies.org/treebanks/ru_taiga/index.html)"
      ]
    },
    {
      "cell_type": "markdown",
      "metadata": {
        "id": "Xi3sqi2ni6Zw"
      },
      "source": [
        "## Подключение необходимых модулей"
      ]
    },
    {
      "cell_type": "code",
      "execution_count": null,
      "metadata": {
        "id": "pFELL0b6i6Zz"
      },
      "outputs": [],
      "source": [
        "! pip install -q conllu\n",
        "! pip install -q graphviz\n",
        "! pip install -q ufal.udpipe"
      ]
    },
    {
      "cell_type": "markdown",
      "metadata": {
        "id": "-w82dt3Ki6aJ"
      },
      "source": [
        "## Загрузка моделей"
      ]
    },
    {
      "cell_type": "code",
      "execution_count": null,
      "metadata": {
        "id": "kDboaNgQi6aK"
      },
      "outputs": [],
      "source": [
        "!wget -q 'https://lindat.mff.cuni.cz/repository/xmlui/bitstream/handle/11234/1-3131/russian-syntagrus-ud-2.5-191206.udpipe'\n",
        "!wget -q 'https://lindat.mff.cuni.cz/repository/xmlui/bitstream/handle/11234/1-3131/russian-taiga-ud-2.5-191206.udpipe'"
      ]
    },
    {
      "cell_type": "markdown",
      "metadata": {
        "id": "05htpbLZi6as"
      },
      "source": [
        "На этом подготовка материалов завершена, переходим к написанию кода для синтаксического анализа"
      ]
    },
    {
      "cell_type": "markdown",
      "metadata": {
        "id": "4RfK9-zii6aw"
      },
      "source": [
        "## Подключение библиотек"
      ]
    },
    {
      "cell_type": "code",
      "execution_count": null,
      "metadata": {
        "id": "dmf7LI_0i6ax"
      },
      "outputs": [],
      "source": [
        "import sys\n",
        "\n",
        "from conllu import parse\n",
        "from graphviz import Digraph\n",
        "from ufal.udpipe import Model, Pipeline, ProcessingError"
      ]
    },
    {
      "cell_type": "markdown",
      "metadata": {
        "id": "ufl9Rvugi6a3"
      },
      "source": [
        "## Настройка работы с моделями"
      ]
    },
    {
      "cell_type": "code",
      "execution_count": null,
      "metadata": {
        "colab": {
          "base_uri": "https://localhost:8080/"
        },
        "id": "Rj7bbVu4i6a4",
        "outputId": "3be59c34-2228-42b7-a822-88da83d01a4c"
      },
      "outputs": [
        {
          "output_type": "stream",
          "name": "stdout",
          "text": [
            "Loading model:russian-syntagrus-ud-2.5-191206.udpipe\n",
            "Loading done\n",
            "Loading model:russian-taiga-ud-2.5-191206.udpipe\n",
            "Loading done\n"
          ]
        }
      ],
      "source": [
        "INPUT_FORMAT = \"tokenize\"\n",
        "OUTPUT_FORMAT = \"conllu\"\n",
        "SYNTAGRUS_MODEL_FILE = \"russian-syntagrus-ud-2.5-191206.udpipe\"\n",
        "TAIGA_MODEL_FILE = \"russian-taiga-ud-2.5-191206.udpipe\"\n",
        "\n",
        "print(\"Loading model:\" + SYNTAGRUS_MODEL_FILE)\n",
        "syntagrus_model = Model.load(SYNTAGRUS_MODEL_FILE)\n",
        "print(\"Loading done\")\n",
        "\n",
        "print(\"Loading model:\" + TAIGA_MODEL_FILE)\n",
        "taiga_model = Model.load(TAIGA_MODEL_FILE)\n",
        "print(\"Loading done\")"
      ]
    },
    {
      "cell_type": "markdown",
      "metadata": {
        "id": "eFV0w_Xmi6bA"
      },
      "source": [
        "## Построение цепочки обработки"
      ]
    },
    {
      "cell_type": "markdown",
      "metadata": {
        "id": "201ztaiki6bB"
      },
      "source": [
        "Строим цепочку обработки  -- от сырого текста до синтаксического дерева"
      ]
    },
    {
      "cell_type": "code",
      "execution_count": null,
      "metadata": {
        "id": "NQxfMF_3i6bC"
      },
      "outputs": [],
      "source": [
        "syntagrus_pipeline = Pipeline(syntagrus_model, INPUT_FORMAT,\n",
        "                              Pipeline.DEFAULT, Pipeline.DEFAULT, OUTPUT_FORMAT)\n",
        "taiga_pipeline = Pipeline(taiga_model, INPUT_FORMAT,\n",
        "                          Pipeline.DEFAULT, Pipeline.DEFAULT, OUTPUT_FORMAT)\n",
        "\n",
        "error = ProcessingError()"
      ]
    },
    {
      "cell_type": "markdown",
      "metadata": {
        "id": "4rmXlR1ei6bI"
      },
      "source": [
        "Применение собственно цепочки обработки к сырому тексту; вывод в формате CoNLL-U."
      ]
    },
    {
      "cell_type": "code",
      "execution_count": null,
      "metadata": {
        "id": "MJedzauNi6bJ"
      },
      "outputs": [],
      "source": [
        "def parse_syntax(raw_text, pipeline):\n",
        "    \"\"\" Applying UDPipe \"\"\"\n",
        "    text = raw_text.strip()\n",
        "\n",
        "    # Process data\n",
        "    processed = pipeline.process(text, error)\n",
        "\n",
        "    if error.occurred():\n",
        "        sys.stderr.write(\"An error occurred when running run_udpipe: \")\n",
        "        sys.stderr.write(error.message)\n",
        "        sys.stderr.write(\"\\n\")\n",
        "\n",
        "    return processed"
      ]
    },
    {
      "cell_type": "markdown",
      "metadata": {
        "id": "CHD7DOp3i6bP"
      },
      "source": [
        "Создадим два разбора, которые и будем сравнивать."
      ]
    },
    {
      "cell_type": "code",
      "execution_count": null,
      "metadata": {
        "id": "svFDIXCli6bS"
      },
      "outputs": [],
      "source": [
        "# Пример с задания\n",
        "# syntag = parse_syntax(\"Порвались о прибрежные скалы бедные мои зелёные башмачки.\", syntagrus_pipeline)\n",
        "# taiga = parse_syntax(\"Порвались о прибрежные скалы бедные мои зелёные башмачки.\", taiga_pipeline)"
      ]
    },
    {
      "cell_type": "markdown",
      "source": [
        "## Здесь вставляем свой текст с задачи"
      ],
      "metadata": {
        "id": "pwvbm6e2g40C"
      }
    },
    {
      "cell_type": "code",
      "source": [
        "# 1\n",
        "syntag = parse_syntax(\"Таким образом , люди с белой кожей среди темнокожих оказываются жертвой всеобщей жажды потустороннего.\", syntagrus_pipeline)\n",
        "taiga = parse_syntax(\"Таким образом , люди с белой кожей среди темнокожих оказываются жертвой всеобщей жажды потустороннего .\", taiga_pipeline)"
      ],
      "metadata": {
        "id": "jAw48mxqgVth"
      },
      "execution_count": null,
      "outputs": []
    },
    {
      "cell_type": "code",
      "source": [
        "# 2\n",
        "syntag = parse_syntax(\"Внучка — ренегатка-наследница — совсем неубедительный персонаж .\", syntagrus_pipeline)\n",
        "taiga = parse_syntax(\"Внучка — ренегатка-наследница — совсем неубедительный персонаж .\", taiga_pipeline)"
      ],
      "metadata": {
        "id": "rle2yNVehONN"
      },
      "execution_count": null,
      "outputs": []
    },
    {
      "cell_type": "code",
      "source": [
        "# 3\n",
        "syntag = parse_syntax(\"Больная не проявила интереса к этим фотографиям .\", syntagrus_pipeline)\n",
        "taiga = parse_syntax(\"Больная не проявила интереса к этим фотографиям .\", taiga_pipeline)"
      ],
      "metadata": {
        "id": "e2Q7uLrQhOXg"
      },
      "execution_count": null,
      "outputs": []
    },
    {
      "cell_type": "markdown",
      "metadata": {
        "id": "9JqN3OWvqbuV"
      },
      "source": [
        "Разбор предложения в текстовом виде будет выглядеть следующим образом:"
      ]
    },
    {
      "cell_type": "code",
      "execution_count": null,
      "metadata": {
        "colab": {
          "base_uri": "https://localhost:8080/"
        },
        "id": "IciMoyh0qbuW",
        "outputId": "1833160b-24d4-4a25-b4ac-ff24482aa60b"
      },
      "outputs": [
        {
          "output_type": "stream",
          "name": "stdout",
          "text": [
            "# newdoc\n",
            "# newpar\n",
            "# sent_id = 1\n",
            "# text = Больная не проявила интереса к этим фотографиям .\n",
            "1\tБольная\tБольный\tPRON\t_\tCase=Nom|Degree=Pos|Gender=Fem|Number=Sing\t3\tnsubj\t_\t_\n",
            "2\tне\tне\tPART\t_\tPolarity=Neg\t3\tadvmod\t_\t_\n",
            "3\tпроявила\tпроявить\tVERB\t_\tAspect=Perf|Gender=Fem|Mood=Ind|Number=Sing|Tense=Past|VerbForm=Fin|Voice=Act\t0\troot\t_\t_\n",
            "4\tинтереса\tинтеро\tNOUN\t_\t_\t3\tobj\t_\t_\n",
            "5\tк\tк\tADP\t_\t_\t7\tcase\t_\t_\n",
            "6\tэтим\tэтот\tDET\t_\tCase=Ins|Gender=Masc|Number=Sing\t7\tdet\t_\t_\n",
            "7\tфотографиям\tфотография\tNOUN\t_\tAnimacy=Inan|Case=Gen|Gender=Fem|Number=Plur\t3\tobl\t_\t_\n",
            "8\t.\t.\tPUNCT\t_\t_\t3\tpunct\t_\tSpacesAfter=\\n\n",
            "\n",
            "\n"
          ]
        }
      ],
      "source": [
        "print(taiga)"
      ]
    },
    {
      "cell_type": "markdown",
      "metadata": {
        "id": "jYKnnwqVqbuZ"
      },
      "source": [
        "Понятно, что в таком виде производить расчеты не очень удобно. Для вычисления LAS и UAS сначала представим деревья разбора в виде графов."
      ]
    },
    {
      "cell_type": "markdown",
      "metadata": {
        "id": "LGkqQEi1qbua"
      },
      "source": [
        "## Графововое представление дерева разбора\n",
        "\n",
        "Методами библиотеки `conllu` превращаем выданный нам udpipe разбор в формате CoNLL-U в дерево, с которым удобно работать.\n",
        "\n",
        "С помощью стандартного обхода в ширину наполняем рёбрами объект Digraph для последующей визуализации дерева с помощью `graphviz`."
      ]
    },
    {
      "cell_type": "code",
      "execution_count": null,
      "metadata": {
        "id": "jQ6zzoRni6bo"
      },
      "outputs": [],
      "source": [
        "from conllu import parse\n",
        "from graphviz import Digraph\n",
        "\n",
        "def parse_output(conll):\n",
        "    \"\"\"\n",
        "        Preparing the dependency tree for further processing\n",
        "    \"\"\"\n",
        "    sentences = parse(conll)\n",
        "    return [s.to_tree() for s  in sentences]\n",
        "\n",
        "\n",
        "class Root(object):\n",
        "  def __init__(self, child):\n",
        "    self.token = {\"form\": \"\", \"id\": 0, \"deprel\": \"root\"}\n",
        "    self.children = [child]\n",
        "\n",
        "def draw_tree(tree):\n",
        "    \"\"\" Drawing a dependency tree for debugging stuff \"\"\"\n",
        "\n",
        "    g = Digraph(format='png')\n",
        "\n",
        "    # a queue for tree traversal\n",
        "    queue = [Root(tree)]\n",
        "\n",
        "    while len(queue) > 0:\n",
        "\n",
        "        head = queue.pop()\n",
        "        head_label = head.token[\"form\"] + \" (%d)\" % head.token[\"id\"]\n",
        "        queue.extend(head.children)\n",
        "\n",
        "        for c in head.children:\n",
        "            c_label = c.token[\"form\"] + \" (%d)\" %  c.token[\"id\"]\n",
        "            g.edge(head_label, c_label, label=c.token[\"deprel\"])\n",
        "\n",
        "    return g"
      ]
    },
    {
      "cell_type": "markdown",
      "metadata": {
        "id": "PGp5oQbUi6cQ"
      },
      "source": [
        "Построим оба дерева"
      ]
    },
    {
      "cell_type": "code",
      "execution_count": null,
      "metadata": {
        "id": "woGZyXqCqbuf"
      },
      "outputs": [],
      "source": [
        "str_tree = parse_output(syntag.strip())[0]\n",
        "taiga_tree = parse_output(taiga.strip())[0]"
      ]
    },
    {
      "cell_type": "code",
      "execution_count": null,
      "metadata": {
        "colab": {
          "base_uri": "https://localhost:8080/",
          "height": 428
        },
        "id": "ICivSE4eqbuh",
        "outputId": "275220ee-15ce-462b-91a9-e46165d15ad8"
      },
      "outputs": [
        {
          "output_type": "execute_result",
          "data": {
            "image/svg+xml": "<?xml version=\"1.0\" encoding=\"UTF-8\" standalone=\"no\"?>\n<!DOCTYPE svg PUBLIC \"-//W3C//DTD SVG 1.1//EN\"\n \"http://www.w3.org/Graphics/SVG/1.1/DTD/svg11.dtd\">\n<!-- Generated by graphviz version 2.43.0 (0)\n -->\n<!-- Title: %3 Pages: 1 -->\n<svg width=\"575pt\" height=\"305pt\"\n viewBox=\"0.00 0.00 575.25 305.00\" xmlns=\"http://www.w3.org/2000/svg\" xmlns:xlink=\"http://www.w3.org/1999/xlink\">\n<g id=\"graph0\" class=\"graph\" transform=\"scale(1 1) rotate(0) translate(4 301)\">\n<title>%3</title>\n<polygon fill=\"white\" stroke=\"transparent\" points=\"-4,4 -4,-301 571.25,-301 571.25,4 -4,4\"/>\n<!--  (0) -->\n<g id=\"node1\" class=\"node\">\n<title> (0)</title>\n<ellipse fill=\"none\" stroke=\"black\" cx=\"269.25\" cy=\"-279\" rx=\"27\" ry=\"18\"/>\n<text text-anchor=\"middle\" x=\"269.25\" y=\"-275.3\" font-family=\"Times,serif\" font-size=\"14.00\"> (0)</text>\n</g>\n<!-- проявила (3) -->\n<g id=\"node2\" class=\"node\">\n<title>проявила (3)</title>\n<ellipse fill=\"none\" stroke=\"black\" cx=\"269.25\" cy=\"-192\" rx=\"59.29\" ry=\"18\"/>\n<text text-anchor=\"middle\" x=\"269.25\" y=\"-188.3\" font-family=\"Times,serif\" font-size=\"14.00\">проявила (3)</text>\n</g>\n<!--  (0)&#45;&gt;проявила (3) -->\n<g id=\"edge1\" class=\"edge\">\n<title> (0)&#45;&gt;проявила (3)</title>\n<path fill=\"none\" stroke=\"black\" d=\"M269.25,-260.8C269.25,-249.16 269.25,-233.55 269.25,-220.24\"/>\n<polygon fill=\"black\" stroke=\"black\" points=\"272.75,-220.18 269.25,-210.18 265.75,-220.18 272.75,-220.18\"/>\n<text text-anchor=\"middle\" x=\"280.25\" y=\"-231.8\" font-family=\"Times,serif\" font-size=\"14.00\">root</text>\n</g>\n<!-- Больная (1) -->\n<g id=\"node3\" class=\"node\">\n<title>Больная (1)</title>\n<ellipse fill=\"none\" stroke=\"black\" cx=\"55.25\" cy=\"-105\" rx=\"55.49\" ry=\"18\"/>\n<text text-anchor=\"middle\" x=\"55.25\" y=\"-101.3\" font-family=\"Times,serif\" font-size=\"14.00\">Больная (1)</text>\n</g>\n<!-- проявила (3)&#45;&gt;Больная (1) -->\n<g id=\"edge2\" class=\"edge\">\n<title>проявила (3)&#45;&gt;Больная (1)</title>\n<path fill=\"none\" stroke=\"black\" d=\"M230.12,-178.28C211.28,-171.95 188.45,-163.95 168.25,-156 143.55,-146.28 116.34,-134.28 94.81,-124.47\"/>\n<polygon fill=\"black\" stroke=\"black\" points=\"96.2,-121.26 85.65,-120.28 93.28,-127.62 96.2,-121.26\"/>\n<text text-anchor=\"middle\" x=\"183.25\" y=\"-144.8\" font-family=\"Times,serif\" font-size=\"14.00\">nsubj</text>\n</g>\n<!-- не (2) -->\n<g id=\"node4\" class=\"node\">\n<title>не (2)</title>\n<ellipse fill=\"none\" stroke=\"black\" cx=\"161.25\" cy=\"-105\" rx=\"32.49\" ry=\"18\"/>\n<text text-anchor=\"middle\" x=\"161.25\" y=\"-101.3\" font-family=\"Times,serif\" font-size=\"14.00\">не (2)</text>\n</g>\n<!-- проявила (3)&#45;&gt;не (2) -->\n<g id=\"edge3\" class=\"edge\">\n<title>проявила (3)&#45;&gt;не (2)</title>\n<path fill=\"none\" stroke=\"black\" d=\"M246.52,-175.35C238.15,-169.44 228.66,-162.55 220.25,-156 208.51,-146.86 195.89,-136.27 185.34,-127.2\"/>\n<polygon fill=\"black\" stroke=\"black\" points=\"187.57,-124.5 177.72,-120.6 182.99,-129.79 187.57,-124.5\"/>\n<text text-anchor=\"middle\" x=\"242.75\" y=\"-144.8\" font-family=\"Times,serif\" font-size=\"14.00\">advmod</text>\n</g>\n<!-- интереса (4) -->\n<g id=\"node5\" class=\"node\">\n<title>интереса (4)</title>\n<ellipse fill=\"none\" stroke=\"black\" cx=\"269.25\" cy=\"-105\" rx=\"57.69\" ry=\"18\"/>\n<text text-anchor=\"middle\" x=\"269.25\" y=\"-101.3\" font-family=\"Times,serif\" font-size=\"14.00\">интереса (4)</text>\n</g>\n<!-- проявила (3)&#45;&gt;интереса (4) -->\n<g id=\"edge4\" class=\"edge\">\n<title>проявила (3)&#45;&gt;интереса (4)</title>\n<path fill=\"none\" stroke=\"black\" d=\"M269.25,-173.8C269.25,-162.16 269.25,-146.55 269.25,-133.24\"/>\n<polygon fill=\"black\" stroke=\"black\" points=\"272.75,-133.18 269.25,-123.18 265.75,-133.18 272.75,-133.18\"/>\n<text text-anchor=\"middle\" x=\"278.25\" y=\"-144.8\" font-family=\"Times,serif\" font-size=\"14.00\">obl</text>\n</g>\n<!-- фотографиям (7) -->\n<g id=\"node6\" class=\"node\">\n<title>фотографиям (7)</title>\n<ellipse fill=\"none\" stroke=\"black\" cx=\"420.25\" cy=\"-105\" rx=\"75.29\" ry=\"18\"/>\n<text text-anchor=\"middle\" x=\"420.25\" y=\"-101.3\" font-family=\"Times,serif\" font-size=\"14.00\">фотографиям (7)</text>\n</g>\n<!-- проявила (3)&#45;&gt;фотографиям (7) -->\n<g id=\"edge5\" class=\"edge\">\n<title>проявила (3)&#45;&gt;фотографиям (7)</title>\n<path fill=\"none\" stroke=\"black\" d=\"M296.24,-175.8C320.55,-162.12 356.5,-141.88 383.44,-126.72\"/>\n<polygon fill=\"black\" stroke=\"black\" points=\"385.21,-129.74 392.2,-121.78 381.77,-123.64 385.21,-129.74\"/>\n<text text-anchor=\"middle\" x=\"363.25\" y=\"-144.8\" font-family=\"Times,serif\" font-size=\"14.00\">obl</text>\n</g>\n<!-- . (8) -->\n<g id=\"node7\" class=\"node\">\n<title>. (8)</title>\n<ellipse fill=\"none\" stroke=\"black\" cx=\"540.25\" cy=\"-105\" rx=\"27\" ry=\"18\"/>\n<text text-anchor=\"middle\" x=\"540.25\" y=\"-101.3\" font-family=\"Times,serif\" font-size=\"14.00\">. (8)</text>\n</g>\n<!-- проявила (3)&#45;&gt;. (8) -->\n<g id=\"edge6\" class=\"edge\">\n<title>проявила (3)&#45;&gt;. (8)</title>\n<path fill=\"none\" stroke=\"black\" d=\"M314.55,-180.18C362.4,-168.23 439.69,-147.41 504.25,-123 506.09,-122.3 507.97,-121.55 509.85,-120.76\"/>\n<polygon fill=\"black\" stroke=\"black\" points=\"511.44,-123.89 519.17,-116.64 508.61,-117.49 511.44,-123.89\"/>\n<text text-anchor=\"middle\" x=\"462.75\" y=\"-144.8\" font-family=\"Times,serif\" font-size=\"14.00\">punct</text>\n</g>\n<!-- к (5) -->\n<g id=\"node8\" class=\"node\">\n<title>к (5)</title>\n<ellipse fill=\"none\" stroke=\"black\" cx=\"376.25\" cy=\"-18\" rx=\"27.9\" ry=\"18\"/>\n<text text-anchor=\"middle\" x=\"376.25\" y=\"-14.3\" font-family=\"Times,serif\" font-size=\"14.00\">к (5)</text>\n</g>\n<!-- фотографиям (7)&#45;&gt;к (5) -->\n<g id=\"edge7\" class=\"edge\">\n<title>фотографиям (7)&#45;&gt;к (5)</title>\n<path fill=\"none\" stroke=\"black\" d=\"M411.34,-86.8C405.02,-74.58 396.42,-57.98 389.32,-44.26\"/>\n<polygon fill=\"black\" stroke=\"black\" points=\"392.39,-42.58 384.69,-35.31 386.18,-45.8 392.39,-42.58\"/>\n<text text-anchor=\"middle\" x=\"413.25\" y=\"-57.8\" font-family=\"Times,serif\" font-size=\"14.00\">case</text>\n</g>\n<!-- этим (6) -->\n<g id=\"node9\" class=\"node\">\n<title>этим (6)</title>\n<ellipse fill=\"none\" stroke=\"black\" cx=\"464.25\" cy=\"-18\" rx=\"42.49\" ry=\"18\"/>\n<text text-anchor=\"middle\" x=\"464.25\" y=\"-14.3\" font-family=\"Times,serif\" font-size=\"14.00\">этим (6)</text>\n</g>\n<!-- фотографиям (7)&#45;&gt;этим (6) -->\n<g id=\"edge8\" class=\"edge\">\n<title>фотографиям (7)&#45;&gt;этим (6)</title>\n<path fill=\"none\" stroke=\"black\" d=\"M429.15,-86.8C435.39,-74.74 443.85,-58.4 450.9,-44.79\"/>\n<polygon fill=\"black\" stroke=\"black\" points=\"454.02,-46.38 455.5,-35.89 447.8,-43.16 454.02,-46.38\"/>\n<text text-anchor=\"middle\" x=\"453.75\" y=\"-57.8\" font-family=\"Times,serif\" font-size=\"14.00\">det</text>\n</g>\n</g>\n</svg>\n",
            "text/plain": [
              "<graphviz.graphs.Digraph at 0x7fd57d170e20>"
            ]
          },
          "metadata": {},
          "execution_count": 75
        }
      ],
      "source": [
        "draw_tree(str_tree)"
      ]
    },
    {
      "cell_type": "code",
      "execution_count": null,
      "metadata": {
        "colab": {
          "base_uri": "https://localhost:8080/",
          "height": 428
        },
        "id": "a_8Oxw6Bqbuj",
        "outputId": "4bc4d04a-e00e-4672-89d4-61443657caf1"
      },
      "outputs": [
        {
          "output_type": "execute_result",
          "data": {
            "image/svg+xml": "<?xml version=\"1.0\" encoding=\"UTF-8\" standalone=\"no\"?>\n<!DOCTYPE svg PUBLIC \"-//W3C//DTD SVG 1.1//EN\"\n \"http://www.w3.org/Graphics/SVG/1.1/DTD/svg11.dtd\">\n<!-- Generated by graphviz version 2.43.0 (0)\n -->\n<!-- Title: %3 Pages: 1 -->\n<svg width=\"575pt\" height=\"305pt\"\n viewBox=\"0.00 0.00 575.25 305.00\" xmlns=\"http://www.w3.org/2000/svg\" xmlns:xlink=\"http://www.w3.org/1999/xlink\">\n<g id=\"graph0\" class=\"graph\" transform=\"scale(1 1) rotate(0) translate(4 301)\">\n<title>%3</title>\n<polygon fill=\"white\" stroke=\"transparent\" points=\"-4,4 -4,-301 571.25,-301 571.25,4 -4,4\"/>\n<!--  (0) -->\n<g id=\"node1\" class=\"node\">\n<title> (0)</title>\n<ellipse fill=\"none\" stroke=\"black\" cx=\"269.25\" cy=\"-279\" rx=\"27\" ry=\"18\"/>\n<text text-anchor=\"middle\" x=\"269.25\" y=\"-275.3\" font-family=\"Times,serif\" font-size=\"14.00\"> (0)</text>\n</g>\n<!-- проявила (3) -->\n<g id=\"node2\" class=\"node\">\n<title>проявила (3)</title>\n<ellipse fill=\"none\" stroke=\"black\" cx=\"269.25\" cy=\"-192\" rx=\"59.29\" ry=\"18\"/>\n<text text-anchor=\"middle\" x=\"269.25\" y=\"-188.3\" font-family=\"Times,serif\" font-size=\"14.00\">проявила (3)</text>\n</g>\n<!--  (0)&#45;&gt;проявила (3) -->\n<g id=\"edge1\" class=\"edge\">\n<title> (0)&#45;&gt;проявила (3)</title>\n<path fill=\"none\" stroke=\"black\" d=\"M269.25,-260.8C269.25,-249.16 269.25,-233.55 269.25,-220.24\"/>\n<polygon fill=\"black\" stroke=\"black\" points=\"272.75,-220.18 269.25,-210.18 265.75,-220.18 272.75,-220.18\"/>\n<text text-anchor=\"middle\" x=\"280.25\" y=\"-231.8\" font-family=\"Times,serif\" font-size=\"14.00\">root</text>\n</g>\n<!-- Больная (1) -->\n<g id=\"node3\" class=\"node\">\n<title>Больная (1)</title>\n<ellipse fill=\"none\" stroke=\"black\" cx=\"55.25\" cy=\"-105\" rx=\"55.49\" ry=\"18\"/>\n<text text-anchor=\"middle\" x=\"55.25\" y=\"-101.3\" font-family=\"Times,serif\" font-size=\"14.00\">Больная (1)</text>\n</g>\n<!-- проявила (3)&#45;&gt;Больная (1) -->\n<g id=\"edge2\" class=\"edge\">\n<title>проявила (3)&#45;&gt;Больная (1)</title>\n<path fill=\"none\" stroke=\"black\" d=\"M230.12,-178.28C211.28,-171.95 188.45,-163.95 168.25,-156 143.55,-146.28 116.34,-134.28 94.81,-124.47\"/>\n<polygon fill=\"black\" stroke=\"black\" points=\"96.2,-121.26 85.65,-120.28 93.28,-127.62 96.2,-121.26\"/>\n<text text-anchor=\"middle\" x=\"183.25\" y=\"-144.8\" font-family=\"Times,serif\" font-size=\"14.00\">nsubj</text>\n</g>\n<!-- не (2) -->\n<g id=\"node4\" class=\"node\">\n<title>не (2)</title>\n<ellipse fill=\"none\" stroke=\"black\" cx=\"161.25\" cy=\"-105\" rx=\"32.49\" ry=\"18\"/>\n<text text-anchor=\"middle\" x=\"161.25\" y=\"-101.3\" font-family=\"Times,serif\" font-size=\"14.00\">не (2)</text>\n</g>\n<!-- проявила (3)&#45;&gt;не (2) -->\n<g id=\"edge3\" class=\"edge\">\n<title>проявила (3)&#45;&gt;не (2)</title>\n<path fill=\"none\" stroke=\"black\" d=\"M246.52,-175.35C238.15,-169.44 228.66,-162.55 220.25,-156 208.51,-146.86 195.89,-136.27 185.34,-127.2\"/>\n<polygon fill=\"black\" stroke=\"black\" points=\"187.57,-124.5 177.72,-120.6 182.99,-129.79 187.57,-124.5\"/>\n<text text-anchor=\"middle\" x=\"242.75\" y=\"-144.8\" font-family=\"Times,serif\" font-size=\"14.00\">advmod</text>\n</g>\n<!-- интереса (4) -->\n<g id=\"node5\" class=\"node\">\n<title>интереса (4)</title>\n<ellipse fill=\"none\" stroke=\"black\" cx=\"269.25\" cy=\"-105\" rx=\"57.69\" ry=\"18\"/>\n<text text-anchor=\"middle\" x=\"269.25\" y=\"-101.3\" font-family=\"Times,serif\" font-size=\"14.00\">интереса (4)</text>\n</g>\n<!-- проявила (3)&#45;&gt;интереса (4) -->\n<g id=\"edge4\" class=\"edge\">\n<title>проявила (3)&#45;&gt;интереса (4)</title>\n<path fill=\"none\" stroke=\"black\" d=\"M269.25,-173.8C269.25,-162.16 269.25,-146.55 269.25,-133.24\"/>\n<polygon fill=\"black\" stroke=\"black\" points=\"272.75,-133.18 269.25,-123.18 265.75,-133.18 272.75,-133.18\"/>\n<text text-anchor=\"middle\" x=\"278.25\" y=\"-144.8\" font-family=\"Times,serif\" font-size=\"14.00\">obj</text>\n</g>\n<!-- фотографиям (7) -->\n<g id=\"node6\" class=\"node\">\n<title>фотографиям (7)</title>\n<ellipse fill=\"none\" stroke=\"black\" cx=\"420.25\" cy=\"-105\" rx=\"75.29\" ry=\"18\"/>\n<text text-anchor=\"middle\" x=\"420.25\" y=\"-101.3\" font-family=\"Times,serif\" font-size=\"14.00\">фотографиям (7)</text>\n</g>\n<!-- проявила (3)&#45;&gt;фотографиям (7) -->\n<g id=\"edge5\" class=\"edge\">\n<title>проявила (3)&#45;&gt;фотографиям (7)</title>\n<path fill=\"none\" stroke=\"black\" d=\"M296.24,-175.8C320.55,-162.12 356.5,-141.88 383.44,-126.72\"/>\n<polygon fill=\"black\" stroke=\"black\" points=\"385.21,-129.74 392.2,-121.78 381.77,-123.64 385.21,-129.74\"/>\n<text text-anchor=\"middle\" x=\"363.25\" y=\"-144.8\" font-family=\"Times,serif\" font-size=\"14.00\">obl</text>\n</g>\n<!-- . (8) -->\n<g id=\"node7\" class=\"node\">\n<title>. (8)</title>\n<ellipse fill=\"none\" stroke=\"black\" cx=\"540.25\" cy=\"-105\" rx=\"27\" ry=\"18\"/>\n<text text-anchor=\"middle\" x=\"540.25\" y=\"-101.3\" font-family=\"Times,serif\" font-size=\"14.00\">. (8)</text>\n</g>\n<!-- проявила (3)&#45;&gt;. (8) -->\n<g id=\"edge6\" class=\"edge\">\n<title>проявила (3)&#45;&gt;. (8)</title>\n<path fill=\"none\" stroke=\"black\" d=\"M314.55,-180.18C362.4,-168.23 439.69,-147.41 504.25,-123 506.09,-122.3 507.97,-121.55 509.85,-120.76\"/>\n<polygon fill=\"black\" stroke=\"black\" points=\"511.44,-123.89 519.17,-116.64 508.61,-117.49 511.44,-123.89\"/>\n<text text-anchor=\"middle\" x=\"462.75\" y=\"-144.8\" font-family=\"Times,serif\" font-size=\"14.00\">punct</text>\n</g>\n<!-- к (5) -->\n<g id=\"node8\" class=\"node\">\n<title>к (5)</title>\n<ellipse fill=\"none\" stroke=\"black\" cx=\"376.25\" cy=\"-18\" rx=\"27.9\" ry=\"18\"/>\n<text text-anchor=\"middle\" x=\"376.25\" y=\"-14.3\" font-family=\"Times,serif\" font-size=\"14.00\">к (5)</text>\n</g>\n<!-- фотографиям (7)&#45;&gt;к (5) -->\n<g id=\"edge7\" class=\"edge\">\n<title>фотографиям (7)&#45;&gt;к (5)</title>\n<path fill=\"none\" stroke=\"black\" d=\"M411.34,-86.8C405.02,-74.58 396.42,-57.98 389.32,-44.26\"/>\n<polygon fill=\"black\" stroke=\"black\" points=\"392.39,-42.58 384.69,-35.31 386.18,-45.8 392.39,-42.58\"/>\n<text text-anchor=\"middle\" x=\"413.25\" y=\"-57.8\" font-family=\"Times,serif\" font-size=\"14.00\">case</text>\n</g>\n<!-- этим (6) -->\n<g id=\"node9\" class=\"node\">\n<title>этим (6)</title>\n<ellipse fill=\"none\" stroke=\"black\" cx=\"464.25\" cy=\"-18\" rx=\"42.49\" ry=\"18\"/>\n<text text-anchor=\"middle\" x=\"464.25\" y=\"-14.3\" font-family=\"Times,serif\" font-size=\"14.00\">этим (6)</text>\n</g>\n<!-- фотографиям (7)&#45;&gt;этим (6) -->\n<g id=\"edge8\" class=\"edge\">\n<title>фотографиям (7)&#45;&gt;этим (6)</title>\n<path fill=\"none\" stroke=\"black\" d=\"M429.15,-86.8C435.39,-74.74 443.85,-58.4 450.9,-44.79\"/>\n<polygon fill=\"black\" stroke=\"black\" points=\"454.02,-46.38 455.5,-35.89 447.8,-43.16 454.02,-46.38\"/>\n<text text-anchor=\"middle\" x=\"453.75\" y=\"-57.8\" font-family=\"Times,serif\" font-size=\"14.00\">det</text>\n</g>\n</g>\n</svg>\n",
            "text/plain": [
              "<graphviz.graphs.Digraph at 0x7fd57d1726e0>"
            ]
          },
          "metadata": {},
          "execution_count": 76
        }
      ],
      "source": [
        "draw_tree(taiga_tree)"
      ]
    },
    {
      "cell_type": "markdown",
      "metadata": {
        "id": "jU8n4urmqbul"
      },
      "source": [
        "Теперь можно переходить к расчету метрик"
      ]
    },
    {
      "cell_type": "markdown",
      "metadata": {
        "id": "VI1qm9bGqbuo"
      },
      "source": [
        "## Вычисление LAS и UAS\n",
        "\n",
        "Для этого набираем множества всех рёбер с метками и без и смотрим на размеры пересечений."
      ]
    },
    {
      "cell_type": "code",
      "execution_count": null,
      "metadata": {
        "id": "fEetAmXx6wAM"
      },
      "outputs": [],
      "source": [
        "def edges_sets(tree):\n",
        "  \"\"\" Reading edges encoded as strings \"\"\"\n",
        "\n",
        "  edges_labeled = []\n",
        "  edges_unlabeled = []\n",
        "  queue = [Root(tree)]\n",
        "\n",
        "  while len(queue) > 0:\n",
        "    head = queue.pop()\n",
        "    head_label = head.token[\"form\"] + \" (%d)\" % head.token[\"id\"]\n",
        "    queue.extend(head.children)\n",
        "\n",
        "    for c in head.children:\n",
        "      c_label = c.token[\"form\"] + \" (%d)\" %  c.token[\"id\"]\n",
        "      edges_unlabeled.append((head_label, c_label))\n",
        "      edges_labeled.append((head_label, c_label, c.token[\"deprel\"]))\n",
        "\n",
        "  return set(edges_labeled), set(edges_unlabeled)"
      ]
    },
    {
      "cell_type": "code",
      "execution_count": null,
      "metadata": {
        "colab": {
          "base_uri": "https://localhost:8080/",
          "height": 35
        },
        "id": "SCT4HgK_i6cU",
        "outputId": "9eaeac65-e8d7-4203-a2a9-d0ec4ef2545a"
      },
      "outputs": [
        {
          "output_type": "execute_result",
          "data": {
            "text/plain": [
              "'LAS: 0.8750 UAS: 1.0000'"
            ],
            "application/vnd.google.colaboratory.intrinsic+json": {
              "type": "string"
            }
          },
          "metadata": {},
          "execution_count": 78
        }
      ],
      "source": [
        "def accuracy(gold, pred):\n",
        "  gold_labeled, gold_unlabeled = edges_sets(gold)\n",
        "  pred_labeled, pred_unlabeled = edges_sets(pred)\n",
        "\n",
        "  return len(gold_labeled.intersection(pred_labeled)) / len(gold_labeled), \\\n",
        "          len(gold_unlabeled.intersection(pred_unlabeled)) / len(gold_unlabeled)\n",
        "\n",
        "LAS, UAS = accuracy(str_tree, taiga_tree)\n",
        "\"LAS: %.4f UAS: %.4f\" % (round(LAS, 3), round(UAS, 3))"
      ]
    },
    {
      "cell_type": "markdown",
      "metadata": {
        "id": "XPsQ9gBtrKVL"
      },
      "source": [
        "Можно заметить, что в первом случае слово <code>башмачки</code> зависит от слова <code>порвались</code>, а во втором -- от слова <code>скалы</code>.\n",
        "Отдельно хотим напомнить, что таким образом корректно сравнивать парсеры только в том случае, когда токензация полностью совпадает."
      ]
    },
    {
      "cell_type": "markdown",
      "metadata": {
        "id": "n08jVsZwu_5R"
      },
      "source": [
        "## Вычисление глубины дерева"
      ]
    },
    {
      "cell_type": "markdown",
      "metadata": {
        "id": "B9LoRI_Hu_5R"
      },
      "source": [
        "Вычислим глубину дерева, например, для разбора модели taiga (ребро root не учитывается).\n",
        "\n",
        "Для этого также можно использовать, например, обход в ширину."
      ]
    },
    {
      "cell_type": "code",
      "execution_count": null,
      "metadata": {
        "id": "45zc-ojN5uph",
        "colab": {
          "base_uri": "https://localhost:8080/"
        },
        "outputId": "a3d7f0ef-78c8-4417-e77b-3f4b4c242d32"
      },
      "outputs": [
        {
          "output_type": "stream",
          "name": "stdout",
          "text": [
            "Глубина дерева:  2\n"
          ]
        }
      ],
      "source": [
        "depth = 0\n",
        "queue = [(taiga_tree, depth)]\n",
        "\n",
        "while len(queue) > 0:\n",
        "    head, depth = queue.pop(0)\n",
        "    queue.extend([(c, depth + 1) for c in head.children])\n",
        "    #print(\"checking\", head.token[\"form\"])\n",
        "\n",
        "print(\"Глубина дерева: \", depth)"
      ]
    },
    {
      "cell_type": "code",
      "source": [],
      "metadata": {
        "id": "SNf_qlgj83rX"
      },
      "execution_count": null,
      "outputs": []
    },
    {
      "cell_type": "code",
      "source": [
        "string = \"Больная не проявила интереса к этим фотографиям.\"\n",
        "syntag = parse_syntax(string, syntagrus_pipeline)\n",
        "taiga = parse_syntax(string, taiga_pipeline)"
      ],
      "metadata": {
        "id": "pkVouZmeRuVz"
      },
      "execution_count": null,
      "outputs": []
    },
    {
      "cell_type": "code",
      "source": [
        "print(taiga)"
      ],
      "metadata": {
        "colab": {
          "base_uri": "https://localhost:8080/"
        },
        "id": "dXCiGB3yR09p",
        "outputId": "8898a85b-4f7f-4136-f4d7-bbe239741ba4"
      },
      "execution_count": null,
      "outputs": [
        {
          "output_type": "stream",
          "name": "stdout",
          "text": [
            "# newdoc\n",
            "# newpar\n",
            "# sent_id = 1\n",
            "# text = Больная не проявила интереса к этим фотографиям.\n",
            "1\tБольная\tБольный\tPRON\t_\tCase=Nom|Degree=Pos|Gender=Fem|Number=Sing\t3\tnsubj\t_\t_\n",
            "2\tне\tне\tPART\t_\tPolarity=Neg\t3\tadvmod\t_\t_\n",
            "3\tпроявила\tпроявить\tVERB\t_\tAspect=Perf|Gender=Fem|Mood=Ind|Number=Sing|Tense=Past|VerbForm=Fin|Voice=Act\t0\troot\t_\t_\n",
            "4\tинтереса\tинтеро\tNOUN\t_\t_\t3\tobj\t_\t_\n",
            "5\tк\tк\tADP\t_\t_\t7\tcase\t_\t_\n",
            "6\tэтим\tэтот\tDET\t_\tCase=Ins|Gender=Masc|Number=Sing\t7\tdet\t_\t_\n",
            "7\tфотографиям\tфотография\tNOUN\t_\tAnimacy=Inan|Case=Gen|Gender=Fem|Number=Plur\t3\tobl\t_\tSpaceAfter=No\n",
            "8\t.\t.\tPUNCT\t_\t_\t3\tpunct\t_\tSpacesAfter=\\n\n",
            "\n",
            "\n"
          ]
        }
      ]
    },
    {
      "cell_type": "code",
      "source": [
        "from conllu import parse\n",
        "from graphviz import Digraph\n",
        "\n",
        "def parse_output(conll):\n",
        "    \"\"\"\n",
        "        Preparing the dependency tree for further processing\n",
        "    \"\"\"\n",
        "    sentences = parse(conll)\n",
        "    return [s.to_tree() for s  in sentences]\n",
        "\n",
        "\n",
        "class Root(object):\n",
        "  def __init__(self, child):\n",
        "    self.token = {\"form\": \"\", \"id\": 0, \"deprel\": \"root\"}\n",
        "    self.children = [child]\n",
        "\n",
        "def draw_tree(tree):\n",
        "    \"\"\" Drawing a dependency tree for debugging stuff \"\"\"\n",
        "\n",
        "    g = Digraph(format='png')\n",
        "\n",
        "    # a queue for tree traversal\n",
        "    queue = [Root(tree)]\n",
        "\n",
        "    while len(queue) > 0:\n",
        "\n",
        "        head = queue.pop()\n",
        "        head_label = head.token[\"form\"] + \" (%d)\" % head.token[\"id\"]\n",
        "        queue.extend(head.children)\n",
        "\n",
        "        for c in head.children:\n",
        "            c_label = c.token[\"form\"] + \" (%d)\" %  c.token[\"id\"]\n",
        "            g.edge(head_label, c_label, label=c.token[\"deprel\"])\n",
        "\n",
        "    return g"
      ],
      "metadata": {
        "id": "VoCtTnu9R310"
      },
      "execution_count": null,
      "outputs": []
    },
    {
      "cell_type": "code",
      "source": [
        "str_tree = parse_output(syntag.strip())[0]\n",
        "taiga_tree = parse_output(taiga.strip())[0]"
      ],
      "metadata": {
        "id": "DqBy2EBuR8bk"
      },
      "execution_count": null,
      "outputs": []
    },
    {
      "cell_type": "code",
      "source": [
        "draw_tree(str_tree)"
      ],
      "metadata": {
        "colab": {
          "base_uri": "https://localhost:8080/",
          "height": 428
        },
        "id": "r5o3ajcVSDGH",
        "outputId": "6766b8af-8f63-47a1-f76f-8d624806c1b4"
      },
      "execution_count": null,
      "outputs": [
        {
          "output_type": "execute_result",
          "data": {
            "image/svg+xml": "<?xml version=\"1.0\" encoding=\"UTF-8\" standalone=\"no\"?>\n<!DOCTYPE svg PUBLIC \"-//W3C//DTD SVG 1.1//EN\"\n \"http://www.w3.org/Graphics/SVG/1.1/DTD/svg11.dtd\">\n<!-- Generated by graphviz version 2.43.0 (0)\n -->\n<!-- Title: %3 Pages: 1 -->\n<svg width=\"575pt\" height=\"305pt\"\n viewBox=\"0.00 0.00 575.25 305.00\" xmlns=\"http://www.w3.org/2000/svg\" xmlns:xlink=\"http://www.w3.org/1999/xlink\">\n<g id=\"graph0\" class=\"graph\" transform=\"scale(1 1) rotate(0) translate(4 301)\">\n<title>%3</title>\n<polygon fill=\"white\" stroke=\"transparent\" points=\"-4,4 -4,-301 571.25,-301 571.25,4 -4,4\"/>\n<!--  (0) -->\n<g id=\"node1\" class=\"node\">\n<title> (0)</title>\n<ellipse fill=\"none\" stroke=\"black\" cx=\"269.25\" cy=\"-279\" rx=\"27\" ry=\"18\"/>\n<text text-anchor=\"middle\" x=\"269.25\" y=\"-275.3\" font-family=\"Times,serif\" font-size=\"14.00\"> (0)</text>\n</g>\n<!-- проявила (3) -->\n<g id=\"node2\" class=\"node\">\n<title>проявила (3)</title>\n<ellipse fill=\"none\" stroke=\"black\" cx=\"269.25\" cy=\"-192\" rx=\"59.29\" ry=\"18\"/>\n<text text-anchor=\"middle\" x=\"269.25\" y=\"-188.3\" font-family=\"Times,serif\" font-size=\"14.00\">проявила (3)</text>\n</g>\n<!--  (0)&#45;&gt;проявила (3) -->\n<g id=\"edge1\" class=\"edge\">\n<title> (0)&#45;&gt;проявила (3)</title>\n<path fill=\"none\" stroke=\"black\" d=\"M269.25,-260.8C269.25,-249.16 269.25,-233.55 269.25,-220.24\"/>\n<polygon fill=\"black\" stroke=\"black\" points=\"272.75,-220.18 269.25,-210.18 265.75,-220.18 272.75,-220.18\"/>\n<text text-anchor=\"middle\" x=\"280.25\" y=\"-231.8\" font-family=\"Times,serif\" font-size=\"14.00\">root</text>\n</g>\n<!-- Больная (1) -->\n<g id=\"node3\" class=\"node\">\n<title>Больная (1)</title>\n<ellipse fill=\"none\" stroke=\"black\" cx=\"55.25\" cy=\"-105\" rx=\"55.49\" ry=\"18\"/>\n<text text-anchor=\"middle\" x=\"55.25\" y=\"-101.3\" font-family=\"Times,serif\" font-size=\"14.00\">Больная (1)</text>\n</g>\n<!-- проявила (3)&#45;&gt;Больная (1) -->\n<g id=\"edge2\" class=\"edge\">\n<title>проявила (3)&#45;&gt;Больная (1)</title>\n<path fill=\"none\" stroke=\"black\" d=\"M230.12,-178.28C211.28,-171.95 188.45,-163.95 168.25,-156 143.55,-146.28 116.34,-134.28 94.81,-124.47\"/>\n<polygon fill=\"black\" stroke=\"black\" points=\"96.2,-121.26 85.65,-120.28 93.28,-127.62 96.2,-121.26\"/>\n<text text-anchor=\"middle\" x=\"183.25\" y=\"-144.8\" font-family=\"Times,serif\" font-size=\"14.00\">nsubj</text>\n</g>\n<!-- не (2) -->\n<g id=\"node4\" class=\"node\">\n<title>не (2)</title>\n<ellipse fill=\"none\" stroke=\"black\" cx=\"161.25\" cy=\"-105\" rx=\"32.49\" ry=\"18\"/>\n<text text-anchor=\"middle\" x=\"161.25\" y=\"-101.3\" font-family=\"Times,serif\" font-size=\"14.00\">не (2)</text>\n</g>\n<!-- проявила (3)&#45;&gt;не (2) -->\n<g id=\"edge3\" class=\"edge\">\n<title>проявила (3)&#45;&gt;не (2)</title>\n<path fill=\"none\" stroke=\"black\" d=\"M246.52,-175.35C238.15,-169.44 228.66,-162.55 220.25,-156 208.51,-146.86 195.89,-136.27 185.34,-127.2\"/>\n<polygon fill=\"black\" stroke=\"black\" points=\"187.57,-124.5 177.72,-120.6 182.99,-129.79 187.57,-124.5\"/>\n<text text-anchor=\"middle\" x=\"242.75\" y=\"-144.8\" font-family=\"Times,serif\" font-size=\"14.00\">advmod</text>\n</g>\n<!-- интереса (4) -->\n<g id=\"node5\" class=\"node\">\n<title>интереса (4)</title>\n<ellipse fill=\"none\" stroke=\"black\" cx=\"269.25\" cy=\"-105\" rx=\"57.69\" ry=\"18\"/>\n<text text-anchor=\"middle\" x=\"269.25\" y=\"-101.3\" font-family=\"Times,serif\" font-size=\"14.00\">интереса (4)</text>\n</g>\n<!-- проявила (3)&#45;&gt;интереса (4) -->\n<g id=\"edge4\" class=\"edge\">\n<title>проявила (3)&#45;&gt;интереса (4)</title>\n<path fill=\"none\" stroke=\"black\" d=\"M269.25,-173.8C269.25,-162.16 269.25,-146.55 269.25,-133.24\"/>\n<polygon fill=\"black\" stroke=\"black\" points=\"272.75,-133.18 269.25,-123.18 265.75,-133.18 272.75,-133.18\"/>\n<text text-anchor=\"middle\" x=\"278.25\" y=\"-144.8\" font-family=\"Times,serif\" font-size=\"14.00\">obl</text>\n</g>\n<!-- фотографиям (7) -->\n<g id=\"node6\" class=\"node\">\n<title>фотографиям (7)</title>\n<ellipse fill=\"none\" stroke=\"black\" cx=\"420.25\" cy=\"-105\" rx=\"75.29\" ry=\"18\"/>\n<text text-anchor=\"middle\" x=\"420.25\" y=\"-101.3\" font-family=\"Times,serif\" font-size=\"14.00\">фотографиям (7)</text>\n</g>\n<!-- проявила (3)&#45;&gt;фотографиям (7) -->\n<g id=\"edge5\" class=\"edge\">\n<title>проявила (3)&#45;&gt;фотографиям (7)</title>\n<path fill=\"none\" stroke=\"black\" d=\"M296.24,-175.8C320.55,-162.12 356.5,-141.88 383.44,-126.72\"/>\n<polygon fill=\"black\" stroke=\"black\" points=\"385.21,-129.74 392.2,-121.78 381.77,-123.64 385.21,-129.74\"/>\n<text text-anchor=\"middle\" x=\"363.25\" y=\"-144.8\" font-family=\"Times,serif\" font-size=\"14.00\">obl</text>\n</g>\n<!-- . (8) -->\n<g id=\"node7\" class=\"node\">\n<title>. (8)</title>\n<ellipse fill=\"none\" stroke=\"black\" cx=\"540.25\" cy=\"-105\" rx=\"27\" ry=\"18\"/>\n<text text-anchor=\"middle\" x=\"540.25\" y=\"-101.3\" font-family=\"Times,serif\" font-size=\"14.00\">. (8)</text>\n</g>\n<!-- проявила (3)&#45;&gt;. (8) -->\n<g id=\"edge6\" class=\"edge\">\n<title>проявила (3)&#45;&gt;. (8)</title>\n<path fill=\"none\" stroke=\"black\" d=\"M314.55,-180.18C362.4,-168.23 439.69,-147.41 504.25,-123 506.09,-122.3 507.97,-121.55 509.85,-120.76\"/>\n<polygon fill=\"black\" stroke=\"black\" points=\"511.44,-123.89 519.17,-116.64 508.61,-117.49 511.44,-123.89\"/>\n<text text-anchor=\"middle\" x=\"462.75\" y=\"-144.8\" font-family=\"Times,serif\" font-size=\"14.00\">punct</text>\n</g>\n<!-- к (5) -->\n<g id=\"node8\" class=\"node\">\n<title>к (5)</title>\n<ellipse fill=\"none\" stroke=\"black\" cx=\"376.25\" cy=\"-18\" rx=\"27.9\" ry=\"18\"/>\n<text text-anchor=\"middle\" x=\"376.25\" y=\"-14.3\" font-family=\"Times,serif\" font-size=\"14.00\">к (5)</text>\n</g>\n<!-- фотографиям (7)&#45;&gt;к (5) -->\n<g id=\"edge7\" class=\"edge\">\n<title>фотографиям (7)&#45;&gt;к (5)</title>\n<path fill=\"none\" stroke=\"black\" d=\"M411.34,-86.8C405.02,-74.58 396.42,-57.98 389.32,-44.26\"/>\n<polygon fill=\"black\" stroke=\"black\" points=\"392.39,-42.58 384.69,-35.31 386.18,-45.8 392.39,-42.58\"/>\n<text text-anchor=\"middle\" x=\"413.25\" y=\"-57.8\" font-family=\"Times,serif\" font-size=\"14.00\">case</text>\n</g>\n<!-- этим (6) -->\n<g id=\"node9\" class=\"node\">\n<title>этим (6)</title>\n<ellipse fill=\"none\" stroke=\"black\" cx=\"464.25\" cy=\"-18\" rx=\"42.49\" ry=\"18\"/>\n<text text-anchor=\"middle\" x=\"464.25\" y=\"-14.3\" font-family=\"Times,serif\" font-size=\"14.00\">этим (6)</text>\n</g>\n<!-- фотографиям (7)&#45;&gt;этим (6) -->\n<g id=\"edge8\" class=\"edge\">\n<title>фотографиям (7)&#45;&gt;этим (6)</title>\n<path fill=\"none\" stroke=\"black\" d=\"M429.15,-86.8C435.39,-74.74 443.85,-58.4 450.9,-44.79\"/>\n<polygon fill=\"black\" stroke=\"black\" points=\"454.02,-46.38 455.5,-35.89 447.8,-43.16 454.02,-46.38\"/>\n<text text-anchor=\"middle\" x=\"453.75\" y=\"-57.8\" font-family=\"Times,serif\" font-size=\"14.00\">det</text>\n</g>\n</g>\n</svg>\n",
            "text/plain": [
              "<graphviz.graphs.Digraph at 0x7fd5ac1511b0>"
            ]
          },
          "metadata": {},
          "execution_count": 84
        }
      ]
    },
    {
      "cell_type": "code",
      "source": [
        "draw_tree(taiga_tree)"
      ],
      "metadata": {
        "colab": {
          "base_uri": "https://localhost:8080/",
          "height": 428
        },
        "id": "wbX2J1wFSFOX",
        "outputId": "9f1b78df-9ae2-45b2-e0fa-8acf1e3b3492"
      },
      "execution_count": null,
      "outputs": [
        {
          "output_type": "execute_result",
          "data": {
            "image/svg+xml": "<?xml version=\"1.0\" encoding=\"UTF-8\" standalone=\"no\"?>\n<!DOCTYPE svg PUBLIC \"-//W3C//DTD SVG 1.1//EN\"\n \"http://www.w3.org/Graphics/SVG/1.1/DTD/svg11.dtd\">\n<!-- Generated by graphviz version 2.43.0 (0)\n -->\n<!-- Title: %3 Pages: 1 -->\n<svg width=\"575pt\" height=\"305pt\"\n viewBox=\"0.00 0.00 575.25 305.00\" xmlns=\"http://www.w3.org/2000/svg\" xmlns:xlink=\"http://www.w3.org/1999/xlink\">\n<g id=\"graph0\" class=\"graph\" transform=\"scale(1 1) rotate(0) translate(4 301)\">\n<title>%3</title>\n<polygon fill=\"white\" stroke=\"transparent\" points=\"-4,4 -4,-301 571.25,-301 571.25,4 -4,4\"/>\n<!--  (0) -->\n<g id=\"node1\" class=\"node\">\n<title> (0)</title>\n<ellipse fill=\"none\" stroke=\"black\" cx=\"269.25\" cy=\"-279\" rx=\"27\" ry=\"18\"/>\n<text text-anchor=\"middle\" x=\"269.25\" y=\"-275.3\" font-family=\"Times,serif\" font-size=\"14.00\"> (0)</text>\n</g>\n<!-- проявила (3) -->\n<g id=\"node2\" class=\"node\">\n<title>проявила (3)</title>\n<ellipse fill=\"none\" stroke=\"black\" cx=\"269.25\" cy=\"-192\" rx=\"59.29\" ry=\"18\"/>\n<text text-anchor=\"middle\" x=\"269.25\" y=\"-188.3\" font-family=\"Times,serif\" font-size=\"14.00\">проявила (3)</text>\n</g>\n<!--  (0)&#45;&gt;проявила (3) -->\n<g id=\"edge1\" class=\"edge\">\n<title> (0)&#45;&gt;проявила (3)</title>\n<path fill=\"none\" stroke=\"black\" d=\"M269.25,-260.8C269.25,-249.16 269.25,-233.55 269.25,-220.24\"/>\n<polygon fill=\"black\" stroke=\"black\" points=\"272.75,-220.18 269.25,-210.18 265.75,-220.18 272.75,-220.18\"/>\n<text text-anchor=\"middle\" x=\"280.25\" y=\"-231.8\" font-family=\"Times,serif\" font-size=\"14.00\">root</text>\n</g>\n<!-- Больная (1) -->\n<g id=\"node3\" class=\"node\">\n<title>Больная (1)</title>\n<ellipse fill=\"none\" stroke=\"black\" cx=\"55.25\" cy=\"-105\" rx=\"55.49\" ry=\"18\"/>\n<text text-anchor=\"middle\" x=\"55.25\" y=\"-101.3\" font-family=\"Times,serif\" font-size=\"14.00\">Больная (1)</text>\n</g>\n<!-- проявила (3)&#45;&gt;Больная (1) -->\n<g id=\"edge2\" class=\"edge\">\n<title>проявила (3)&#45;&gt;Больная (1)</title>\n<path fill=\"none\" stroke=\"black\" d=\"M230.12,-178.28C211.28,-171.95 188.45,-163.95 168.25,-156 143.55,-146.28 116.34,-134.28 94.81,-124.47\"/>\n<polygon fill=\"black\" stroke=\"black\" points=\"96.2,-121.26 85.65,-120.28 93.28,-127.62 96.2,-121.26\"/>\n<text text-anchor=\"middle\" x=\"183.25\" y=\"-144.8\" font-family=\"Times,serif\" font-size=\"14.00\">nsubj</text>\n</g>\n<!-- не (2) -->\n<g id=\"node4\" class=\"node\">\n<title>не (2)</title>\n<ellipse fill=\"none\" stroke=\"black\" cx=\"161.25\" cy=\"-105\" rx=\"32.49\" ry=\"18\"/>\n<text text-anchor=\"middle\" x=\"161.25\" y=\"-101.3\" font-family=\"Times,serif\" font-size=\"14.00\">не (2)</text>\n</g>\n<!-- проявила (3)&#45;&gt;не (2) -->\n<g id=\"edge3\" class=\"edge\">\n<title>проявила (3)&#45;&gt;не (2)</title>\n<path fill=\"none\" stroke=\"black\" d=\"M246.52,-175.35C238.15,-169.44 228.66,-162.55 220.25,-156 208.51,-146.86 195.89,-136.27 185.34,-127.2\"/>\n<polygon fill=\"black\" stroke=\"black\" points=\"187.57,-124.5 177.72,-120.6 182.99,-129.79 187.57,-124.5\"/>\n<text text-anchor=\"middle\" x=\"242.75\" y=\"-144.8\" font-family=\"Times,serif\" font-size=\"14.00\">advmod</text>\n</g>\n<!-- интереса (4) -->\n<g id=\"node5\" class=\"node\">\n<title>интереса (4)</title>\n<ellipse fill=\"none\" stroke=\"black\" cx=\"269.25\" cy=\"-105\" rx=\"57.69\" ry=\"18\"/>\n<text text-anchor=\"middle\" x=\"269.25\" y=\"-101.3\" font-family=\"Times,serif\" font-size=\"14.00\">интереса (4)</text>\n</g>\n<!-- проявила (3)&#45;&gt;интереса (4) -->\n<g id=\"edge4\" class=\"edge\">\n<title>проявила (3)&#45;&gt;интереса (4)</title>\n<path fill=\"none\" stroke=\"black\" d=\"M269.25,-173.8C269.25,-162.16 269.25,-146.55 269.25,-133.24\"/>\n<polygon fill=\"black\" stroke=\"black\" points=\"272.75,-133.18 269.25,-123.18 265.75,-133.18 272.75,-133.18\"/>\n<text text-anchor=\"middle\" x=\"278.25\" y=\"-144.8\" font-family=\"Times,serif\" font-size=\"14.00\">obj</text>\n</g>\n<!-- фотографиям (7) -->\n<g id=\"node6\" class=\"node\">\n<title>фотографиям (7)</title>\n<ellipse fill=\"none\" stroke=\"black\" cx=\"420.25\" cy=\"-105\" rx=\"75.29\" ry=\"18\"/>\n<text text-anchor=\"middle\" x=\"420.25\" y=\"-101.3\" font-family=\"Times,serif\" font-size=\"14.00\">фотографиям (7)</text>\n</g>\n<!-- проявила (3)&#45;&gt;фотографиям (7) -->\n<g id=\"edge5\" class=\"edge\">\n<title>проявила (3)&#45;&gt;фотографиям (7)</title>\n<path fill=\"none\" stroke=\"black\" d=\"M296.24,-175.8C320.55,-162.12 356.5,-141.88 383.44,-126.72\"/>\n<polygon fill=\"black\" stroke=\"black\" points=\"385.21,-129.74 392.2,-121.78 381.77,-123.64 385.21,-129.74\"/>\n<text text-anchor=\"middle\" x=\"363.25\" y=\"-144.8\" font-family=\"Times,serif\" font-size=\"14.00\">obl</text>\n</g>\n<!-- . (8) -->\n<g id=\"node7\" class=\"node\">\n<title>. (8)</title>\n<ellipse fill=\"none\" stroke=\"black\" cx=\"540.25\" cy=\"-105\" rx=\"27\" ry=\"18\"/>\n<text text-anchor=\"middle\" x=\"540.25\" y=\"-101.3\" font-family=\"Times,serif\" font-size=\"14.00\">. (8)</text>\n</g>\n<!-- проявила (3)&#45;&gt;. (8) -->\n<g id=\"edge6\" class=\"edge\">\n<title>проявила (3)&#45;&gt;. (8)</title>\n<path fill=\"none\" stroke=\"black\" d=\"M314.55,-180.18C362.4,-168.23 439.69,-147.41 504.25,-123 506.09,-122.3 507.97,-121.55 509.85,-120.76\"/>\n<polygon fill=\"black\" stroke=\"black\" points=\"511.44,-123.89 519.17,-116.64 508.61,-117.49 511.44,-123.89\"/>\n<text text-anchor=\"middle\" x=\"462.75\" y=\"-144.8\" font-family=\"Times,serif\" font-size=\"14.00\">punct</text>\n</g>\n<!-- к (5) -->\n<g id=\"node8\" class=\"node\">\n<title>к (5)</title>\n<ellipse fill=\"none\" stroke=\"black\" cx=\"376.25\" cy=\"-18\" rx=\"27.9\" ry=\"18\"/>\n<text text-anchor=\"middle\" x=\"376.25\" y=\"-14.3\" font-family=\"Times,serif\" font-size=\"14.00\">к (5)</text>\n</g>\n<!-- фотографиям (7)&#45;&gt;к (5) -->\n<g id=\"edge7\" class=\"edge\">\n<title>фотографиям (7)&#45;&gt;к (5)</title>\n<path fill=\"none\" stroke=\"black\" d=\"M411.34,-86.8C405.02,-74.58 396.42,-57.98 389.32,-44.26\"/>\n<polygon fill=\"black\" stroke=\"black\" points=\"392.39,-42.58 384.69,-35.31 386.18,-45.8 392.39,-42.58\"/>\n<text text-anchor=\"middle\" x=\"413.25\" y=\"-57.8\" font-family=\"Times,serif\" font-size=\"14.00\">case</text>\n</g>\n<!-- этим (6) -->\n<g id=\"node9\" class=\"node\">\n<title>этим (6)</title>\n<ellipse fill=\"none\" stroke=\"black\" cx=\"464.25\" cy=\"-18\" rx=\"42.49\" ry=\"18\"/>\n<text text-anchor=\"middle\" x=\"464.25\" y=\"-14.3\" font-family=\"Times,serif\" font-size=\"14.00\">этим (6)</text>\n</g>\n<!-- фотографиям (7)&#45;&gt;этим (6) -->\n<g id=\"edge8\" class=\"edge\">\n<title>фотографиям (7)&#45;&gt;этим (6)</title>\n<path fill=\"none\" stroke=\"black\" d=\"M429.15,-86.8C435.39,-74.74 443.85,-58.4 450.9,-44.79\"/>\n<polygon fill=\"black\" stroke=\"black\" points=\"454.02,-46.38 455.5,-35.89 447.8,-43.16 454.02,-46.38\"/>\n<text text-anchor=\"middle\" x=\"453.75\" y=\"-57.8\" font-family=\"Times,serif\" font-size=\"14.00\">det</text>\n</g>\n</g>\n</svg>\n",
            "text/plain": [
              "<graphviz.graphs.Digraph at 0x7fd5ac153340>"
            ]
          },
          "metadata": {},
          "execution_count": 85
        }
      ]
    },
    {
      "cell_type": "code",
      "source": [
        "def edges_sets(tree):\n",
        "  \"\"\" Reading edges encoded as strings \"\"\"\n",
        "\n",
        "  edges_labeled = []\n",
        "  edges_unlabeled = []\n",
        "  queue = [Root(tree)]\n",
        "\n",
        "  while len(queue) > 0:\n",
        "    head = queue.pop()\n",
        "    head_label = head.token[\"form\"] + \" (%d)\" % head.token[\"id\"]\n",
        "    queue.extend(head.children)\n",
        "\n",
        "    for c in head.children:\n",
        "      c_label = c.token[\"form\"] + \" (%d)\" %  c.token[\"id\"]\n",
        "      edges_unlabeled.append((head_label, c_label))\n",
        "      edges_labeled.append((head_label, c_label, c.token[\"deprel\"]))\n",
        "\n",
        "  return set(edges_labeled), set(edges_unlabeled)"
      ],
      "metadata": {
        "id": "o8RskqiUSImd"
      },
      "execution_count": null,
      "outputs": []
    },
    {
      "cell_type": "code",
      "source": [
        "def accuracy(gold, pred):\n",
        "  gold_labeled, gold_unlabeled = edges_sets(gold)\n",
        "  pred_labeled, pred_unlabeled = edges_sets(pred)\n",
        "\n",
        "  return len(gold_labeled.intersection(pred_labeled)) / len(gold_labeled), \\\n",
        "          len(gold_unlabeled.intersection(pred_unlabeled)) / len(gold_unlabeled)\n",
        "\n",
        "LAS, UAS = accuracy(str_tree, taiga_tree)\n",
        "\"LAS: %.3f UAS: %.3f\" % (LAS, UAS)"
      ],
      "metadata": {
        "colab": {
          "base_uri": "https://localhost:8080/",
          "height": 35
        },
        "id": "_ads5iFlSOeN",
        "outputId": "c70946e0-63ad-4115-a6a9-407d4c558e23"
      },
      "execution_count": null,
      "outputs": [
        {
          "output_type": "execute_result",
          "data": {
            "text/plain": [
              "'LAS: 0.875 UAS: 1.000'"
            ],
            "application/vnd.google.colaboratory.intrinsic+json": {
              "type": "string"
            }
          },
          "metadata": {},
          "execution_count": 87
        }
      ]
    },
    {
      "cell_type": "code",
      "source": [
        "depth_taiga = 0\n",
        "queue = [(taiga_tree, depth_taiga)]\n",
        "\n",
        "while len(queue) > 0:\n",
        "    head, depth_taiga = queue.pop(0)\n",
        "    queue.extend([(c, depth_taiga + 1) for c in head.children])\n",
        "    # print(\"checking\", head.token[\"form\"])\n",
        "\n",
        "depth_str = 0\n",
        "queue = [(str_tree, depth_str)]\n",
        "\n",
        "while len(queue) > 0:\n",
        "    head, depth_str = queue.pop(0)\n",
        "    queue.extend([(c, depth_str + 1) for c in head.children])\n",
        "    # print(\"checking\", head.token[\"form\"])\n",
        "\n",
        "if depth_taiga > depth_str:\n",
        "  print(\"Глубина дерева: \", depth_taiga)\n",
        "else:\n",
        "  print(\"Глубина дерева: \", depth_str)"
      ],
      "metadata": {
        "colab": {
          "base_uri": "https://localhost:8080/"
        },
        "id": "jqYcckqUSP3U",
        "outputId": "6deac2c3-6e44-4493-d85b-de5607d25964"
      },
      "execution_count": null,
      "outputs": [
        {
          "output_type": "stream",
          "name": "stdout",
          "text": [
            "Глубина дерева:  2\n"
          ]
        }
      ]
    },
    {
      "cell_type": "code",
      "source": [],
      "metadata": {
        "id": "Nh4mQP8qSb9_"
      },
      "execution_count": null,
      "outputs": []
    }
  ],
  "metadata": {
    "colab": {
      "provenance": [],
      "toc_visible": true
    },
    "kernelspec": {
      "display_name": "Python 3",
      "language": "python",
      "name": "python3"
    },
    "language_info": {
      "codemirror_mode": {
        "name": "ipython",
        "version": 3
      },
      "file_extension": ".py",
      "mimetype": "text/x-python",
      "name": "python",
      "nbconvert_exporter": "python",
      "pygments_lexer": "ipython3",
      "version": "3.7.6"
    }
  },
  "nbformat": 4,
  "nbformat_minor": 0
}